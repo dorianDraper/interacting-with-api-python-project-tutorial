{
    "cells": [
        {
            "cell_type": "markdown",
            "metadata": {},
            "source": [
                "<h1 style=\"font-family: Arial, sans-serif; color: #ff0000; text-align: center; text-shadow: 2px 2px 4px #FF33CE;\">Interacting with an API using Python</h1>"
            ]
        },
        {
            "cell_type": "code",
            "execution_count": 7,
            "metadata": {},
            "outputs": [],
            "source": [
                "import os\n",
                "import spotipy\n",
                "from sqlalchemy import create_engine\n",
                "import pandas as pd\n",
                "from dotenv import load_dotenv\n",
                "\n",
                "# load the .env file variables\n",
                "load_dotenv()\n",
                "\n",
                "# get the environment variables\n",
                "SPOTIPY_CLIENT_ID = os.getenv(\"SPOTIPY_CLIENT_ID\")\n",
                "SPOTIPY_CLIENT_SECRET = os.getenv(\"SPOTIPY_CLIENT_SECRET\")"
            ]
        },
        {
            "cell_type": "code",
            "execution_count": 21,
            "metadata": {},
            "outputs": [
                {
                    "data": {
                        "text/html": [
                            "<div>\n",
                            "<style scoped>\n",
                            "    .dataframe tbody tr th:only-of-type {\n",
                            "        vertical-align: middle;\n",
                            "    }\n",
                            "\n",
                            "    .dataframe tbody tr th {\n",
                            "        vertical-align: top;\n",
                            "    }\n",
                            "\n",
                            "    .dataframe thead th {\n",
                            "        text-align: right;\n",
                            "    }\n",
                            "</style>\n",
                            "<table border=\"1\" class=\"dataframe\">\n",
                            "  <thead>\n",
                            "    <tr style=\"text-align: right;\">\n",
                            "      <th></th>\n",
                            "      <th>track_name</th>\n",
                            "      <th>duration_min</th>\n",
                            "      <th>popularity_score</th>\n",
                            "    </tr>\n",
                            "  </thead>\n",
                            "  <tbody>\n",
                            "    <tr>\n",
                            "      <th>0</th>\n",
                            "      <td>Angels</td>\n",
                            "      <td>4.416667</td>\n",
                            "      <td>78</td>\n",
                            "    </tr>\n",
                            "    <tr>\n",
                            "      <th>1</th>\n",
                            "      <td>Feel</td>\n",
                            "      <td>4.397767</td>\n",
                            "      <td>77</td>\n",
                            "    </tr>\n",
                            "    <tr>\n",
                            "      <th>2</th>\n",
                            "      <td>Rock DJ</td>\n",
                            "      <td>4.342667</td>\n",
                            "      <td>58</td>\n",
                            "    </tr>\n",
                            "    <tr>\n",
                            "      <th>3</th>\n",
                            "      <td>Candy</td>\n",
                            "      <td>3.350883</td>\n",
                            "      <td>71</td>\n",
                            "    </tr>\n",
                            "    <tr>\n",
                            "      <th>4</th>\n",
                            "      <td>Somethin' Stupid</td>\n",
                            "      <td>2.841550</td>\n",
                            "      <td>71</td>\n",
                            "    </tr>\n",
                            "    <tr>\n",
                            "      <th>5</th>\n",
                            "      <td>She's The One</td>\n",
                            "      <td>4.300433</td>\n",
                            "      <td>71</td>\n",
                            "    </tr>\n",
                            "    <tr>\n",
                            "      <th>6</th>\n",
                            "      <td>Let Me Entertain You</td>\n",
                            "      <td>4.366667</td>\n",
                            "      <td>68</td>\n",
                            "    </tr>\n",
                            "    <tr>\n",
                            "      <th>7</th>\n",
                            "      <td>Supreme</td>\n",
                            "      <td>4.339983</td>\n",
                            "      <td>46</td>\n",
                            "    </tr>\n",
                            "    <tr>\n",
                            "      <th>8</th>\n",
                            "      <td>Better Man</td>\n",
                            "      <td>3.410667</td>\n",
                            "      <td>43</td>\n",
                            "    </tr>\n",
                            "    <tr>\n",
                            "      <th>9</th>\n",
                            "      <td>Love My Life</td>\n",
                            "      <td>3.472000</td>\n",
                            "      <td>62</td>\n",
                            "    </tr>\n",
                            "  </tbody>\n",
                            "</table>\n",
                            "</div>"
                        ],
                        "text/plain": [
                            "             track_name  duration_min  popularity_score\n",
                            "0                Angels      4.416667                78\n",
                            "1                  Feel      4.397767                77\n",
                            "2               Rock DJ      4.342667                58\n",
                            "3                 Candy      3.350883                71\n",
                            "4      Somethin' Stupid      2.841550                71\n",
                            "5         She's The One      4.300433                71\n",
                            "6  Let Me Entertain You      4.366667                68\n",
                            "7               Supreme      4.339983                46\n",
                            "8            Better Man      3.410667                43\n",
                            "9          Love My Life      3.472000                62"
                        ]
                    },
                    "execution_count": 21,
                    "metadata": {},
                    "output_type": "execute_result"
                }
            ],
            "source": [
                "from spotipy.oauth2 import SpotifyClientCredentials\n",
                "\n",
                "robbie_uri = 'spotify:artist:2HcwFjNelS49kFbfvMxQYw'\n",
                "spotify = spotipy.Spotify(client_credentials_manager=SpotifyClientCredentials()) # we can also add client_id and client_secret as parameters\n",
                "\n",
                "# get the artist's top tracks, its duration and popularity and store it in a dataframe \n",
                "results = spotify.artist_top_tracks(robbie_uri)\n",
                "tracks = results['tracks']\n",
                "df = pd.DataFrame(tracks)\n",
                "df = df[['name', 'duration_ms', 'popularity']]\n",
                "df['duration_ms'] = df['duration_ms'] / 60000\n",
                "df = df.rename(columns={'name': 'track_name', 'duration_ms': 'duration_min', 'popularity': 'popularity_score'})\n",
                "df"
            ]
        },
        {
            "cell_type": "code",
            "execution_count": 26,
            "metadata": {},
            "outputs": [
                {
                    "data": {
                        "image/png": "[encoded data removed]",
                        "text/plain": [
                            "<Figure size 700x400 with 1 Axes>"
                        ]
                    },
                    "metadata": {},
                    "output_type": "display_data"
                }
            ],
            "source": [
                "import seaborn as sns\n",
                "\n",
                "# plot the popularity score and duration of the tracks i a scatter plot\n",
                "sns.scatterplot(data=df, x='popularity_score', y='duration_min')\n",
                "sns.set_theme(rc={'figure.figsize':(7, 4)})\n",
                "sns.set_style(\"whitegrid\") # to have a white grid on the background\n",
                "sns.despine() # to remove the top and right spines"
            ]
        }
    ],
    "metadata": {
        "kernelspec": {
            "display_name": "Python 3.8.13 64-bit ('3.8.13')",
            "language": "python",
            "name": "python3"
        },
        "language_info": {
            "codemirror_mode": {
                "name": "ipython",
                "version": 3
            },
            "file_extension": ".py",
            "mimetype": "text/x-python",
            "name": "python",
            "nbconvert_exporter": "python",
            "pygments_lexer": "ipython3",
            "version": "3.11.3"
        },
        "orig_nbformat": 4,
        "vscode": {
            "interpreter": {
                "hash": "110cc1dee26208153f2972f08a2ad52b6a56238dc66d48e87fb757ef2996db56"
            }
        }
    },
    "nbformat": 4,
    "nbformat_minor": 2
}
