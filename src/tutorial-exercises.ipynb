{
 "cells": [
  {
   "cell_type": "markdown",
   "metadata": {},
   "source": [
    "<h1 style=\"font-family: Arial, sans-serif; color: #ff0000; text-align: center; text-shadow: 2px 2px 4px #FF33CE;\">Tutorial Exercises</h1>"
   ]
  },
  {
   "cell_type": "code",
   "execution_count": null,
   "metadata": {},
   "outputs": [],
   "source": [
    "import requests\n",
    "\n",
    "response = requests.get(\"https://assets.breatheco.de/apis/fake/sample/404-example.php\")\n",
    "print(response.status_code)\n",
    "\n"
   ]
  },
  {
   "cell_type": "code",
   "execution_count": 7,
   "metadata": {},
   "outputs": [
    {
     "name": "stdout",
     "output_type": "stream",
     "text": [
      "The response text is:\n",
      " {\n",
      "\t\"content\" : \"hello world\"\n",
      "} \n",
      "and the response status is 200\n"
     ]
    }
   ],
   "source": [
    "# make a get request to \"https://assets.breatheco.de/apis/fake/sample/404-example.php\" and print the response\n",
    "import requests\n",
    "\n",
    "response = requests.get(\"https://assets.breatheco.de/apis/fake/sample/hello.php\")\n",
    "print(f'The response text is:\\n {response.text} \\nand the response status is {response.status_code}')"
   ]
  },
  {
   "cell_type": "code",
   "execution_count": null,
   "metadata": {},
   "outputs": [],
   "source": []
  }
 ],
 "metadata": {
  "kernelspec": {
   "display_name": "Python 3",
   "language": "python",
   "name": "python3"
  },
  "language_info": {
   "codemirror_mode": {
    "name": "ipython",
    "version": 3
   },
   "file_extension": ".py",
   "mimetype": "text/x-python",
   "name": "python",
   "nbconvert_exporter": "python",
   "pygments_lexer": "ipython3",
   "version": "3.11.3"
  }
 },
 "nbformat": 4,
 "nbformat_minor": 2
}
